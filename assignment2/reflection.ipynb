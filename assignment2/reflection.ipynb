{
 "cells": [
  {
   "metadata": {},
   "cell_type": "markdown",
   "source": [
    "In Assignment 1, I focused on grouping behaviors and state within classes, using attributes like self.classes and self.functions to track things. With functional programing, the focus shifted to immutability and pure functions - by reworking functions to return values directly instead of modifying class attributes, which helped reduce side effects and made the code more predictable.\n",
    "\n",
    "State management was another area where the two approaches differed. In object-oriented programming, I stored intermediate results in class attributes and updated them as I went along. With Assignment 2, local variables returned results from functions right away, keeping things stateless. This switch made the code more reusable, as functions became more self-contained and easier to test independently.\n",
    "\n",
    "Overall, moving to functional programming made the code cleaner and easier to follow, though it did require a bit more planning to manage state without using mutability. Combining the best aspects of both paradigms produced a program that was more maintainable and easier to handle."
   ],
   "id": "80ae3964664e43b1"
  }
 ],
 "metadata": {
  "kernelspec": {
   "display_name": "Python 3",
   "language": "python",
   "name": "python3"
  },
  "language_info": {
   "codemirror_mode": {
    "name": "ipython",
    "version": 2
   },
   "file_extension": ".py",
   "mimetype": "text/x-python",
   "name": "python",
   "nbconvert_exporter": "python",
   "pygments_lexer": "ipython2",
   "version": "2.7.6"
  }
 },
 "nbformat": 4,
 "nbformat_minor": 5
}
