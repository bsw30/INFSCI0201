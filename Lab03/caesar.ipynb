{
 "cells": [
  {
   "cell_type": "code",
   "id": "initial_id",
   "metadata": {
    "collapsed": true,
    "ExecuteTime": {
     "end_time": "2024-09-25T15:55:14.472832Z",
     "start_time": "2024-09-25T15:55:14.463992Z"
    }
   },
   "source": [
    "#Caesar Cipher - encrypt and decrypt\n",
    "\n",
    "#goals: encrypt method shifts correctly, changes case correctly, handles non-letter input, decrypts correct in all cases, class follows proper naming conventions and object design requirements\n",
    "\n",
    "class Caesar:\n",
    "    def __init__(self, shift): #private instance attribute\n",
    "        self._key = shift\n",
    "    \n",
    "    def get_key(self):  #getter private\n",
    "        return self._key\n",
    "    \n",
    "    def set_key(self, shift): #setter private\n",
    "        if isinstance(shift, int): #integer\n",
    "            self._key = shift\n",
    "        else:\n",
    "            raise ValueError('Shift must be an integer.')\n",
    "        \n",
    "    def encrypt(self, plaintext):\n",
    "        \"\"\"Encrypt given text using Caesar Cipher with current key.\"\"\"\n",
    "        result = ''\n",
    "        for char in plaintext:\n",
    "            if char.isupper():\n",
    "                result += chr((ord(char) - 65 + self._key) % 26 + 65)\n",
    "            elif char.islower():\n",
    "                result += chr((ord(char) - 97 + self._key) % 26 + 97)\n",
    "            elif char.isspace():  # whitespace\n",
    "                result += char\n",
    "            else: #special\n",
    "                result += chr((ord(char) + self._key) % 256)\n",
    "        return result.lower()\n",
    "    \n",
    "    def decrypt(self, ciphertext):\n",
    "        \"\"\"Decrypt the given text using Caesar Cipher with current key.\"\"\"\n",
    "        result = ''\n",
    "        for char in ciphertext:\n",
    "            if char.isupper():\n",
    "                result += chr((ord(char) - 65 - self._key) % 26 + 65)\n",
    "            elif char.islower():\n",
    "                result += chr((ord(char) - 97 - self._key) % 26 + 97)\n",
    "            elif char.isspace():  # whitespace\n",
    "                result += char\n",
    "            else: #special\n",
    "                result += chr((ord(char) - self._key) % 256)\n",
    "        return result.lower()\n",
    "    \n",
    "\n",
    "#testing\n",
    "if __name__ == '__main__':\n",
    "    cipher = Caesar(3)\n",
    "\n",
    "    encrypt_plaintext = cipher.encrypt('hello WORLD!')\n",
    "    print(f\"Encrypted text: {encrypt_plaintext}\")\n",
    "    \n",
    "    decrypt_plaintext = cipher.decrypt(encrypt_plaintext)\n",
    "    print(f\"Decrypted text: {decrypt_plaintext}\") \n"
   ],
   "outputs": [
    {
     "name": "stdout",
     "output_type": "stream",
     "text": [
      "Encrypted text: khoor zruog$\n",
      "Decrypted text: hello world!\n"
     ]
    }
   ],
   "execution_count": 41
  }
 ],
 "metadata": {
  "kernelspec": {
   "display_name": "Python 3",
   "language": "python",
   "name": "python3"
  },
  "language_info": {
   "codemirror_mode": {
    "name": "ipython",
    "version": 2
   },
   "file_extension": ".py",
   "mimetype": "text/x-python",
   "name": "python",
   "nbconvert_exporter": "python",
   "pygments_lexer": "ipython2",
   "version": "2.7.6"
  }
 },
 "nbformat": 4,
 "nbformat_minor": 5
}
