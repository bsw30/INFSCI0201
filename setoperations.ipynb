{
 "cells": [
  {
   "cell_type": "code",
   "id": "initial_id",
   "metadata": {
    "collapsed": true,
    "ExecuteTime": {
     "end_time": "2024-09-18T15:09:40.943076Z",
     "start_time": "2024-09-18T15:09:40.936550Z"
    }
   },
   "source": [
    "#make_set(data)\n",
    "\n",
    "def make_set(data):\n",
    "    unique_data = []\n",
    "    for item in data:\n",
    "        if item not in unique_data:\n",
    "            unique_data.append(item)\n",
    "    return unique_data\n",
    "\n",
    "result = make_set([1,2,3,4,4,5])\n",
    "print(result)"
   ],
   "outputs": [
    {
     "name": "stdout",
     "output_type": "stream",
     "text": [
      "[1, 2, 3, 4, 5]\n"
     ]
    }
   ],
   "execution_count": 10
  },
  {
   "metadata": {
    "ExecuteTime": {
     "end_time": "2024-09-18T15:15:38.597759Z",
     "start_time": "2024-09-18T15:15:38.594178Z"
    }
   },
   "cell_type": "code",
   "source": [
    "#is_set(data)\n",
    "\n",
    "def is_set(data):\n",
    "    unique_data = []\n",
    "    for item in data:\n",
    "        if item in unique_data:\n",
    "            return False\n",
    "        unique_data.append(item)\n",
    "    return True \n",
    "\n",
    "is_set([])"
   ],
   "id": "b99d42eb785a5dc7",
   "outputs": [
    {
     "data": {
      "text/plain": [
       "True"
      ]
     },
     "execution_count": 21,
     "metadata": {},
     "output_type": "execute_result"
    }
   ],
   "execution_count": 21
  },
  {
   "metadata": {
    "ExecuteTime": {
     "end_time": "2024-09-18T16:04:33.966572Z",
     "start_time": "2024-09-18T16:04:33.962057Z"
    }
   },
   "cell_type": "code",
   "source": [
    "#union(setA, setB)\n",
    "\n",
    "set_A = [1,2]\n",
    "set_B = [2,3]\n",
    "\n",
    "def union(set_A, set_B):\n",
    "    if type(set_A) is not list or type(set_B) is not list:\n",
    "        return []\n",
    "    \n",
    "    if len(set_A) != len(set_B):\n",
    "        return []\n",
    "    \n",
    "    dry_union_list\n",
    "    \n",
    "    for item in set_A:\n",
    "        if item not in dry_union_list:\n",
    "            dry_union_list.append(item)\n",
    "        \n",
    "    for item in set_B:\n",
    "        if item not in dry_union_list:\n",
    "            dry_union_list.append(item)\n",
    "            \n",
    "    return dry_union_list\n",
    "\n",
    "result = union(set_A, set_B)\n",
    "print(result)"
   ],
   "id": "3d3ad8b8fd5c696a",
   "outputs": [
    {
     "name": "stdout",
     "output_type": "stream",
     "text": [
      "[1, 2, 3]\n"
     ]
    }
   ],
   "execution_count": 62
  },
  {
   "metadata": {
    "ExecuteTime": {
     "end_time": "2024-09-18T15:58:03.969558Z",
     "start_time": "2024-09-18T15:58:03.963110Z"
    }
   },
   "cell_type": "code",
   "source": [
    "#intersection(setA, setB)\n",
    "\n",
    "set_A = [1, 2]\n",
    "set_B = [2, 3]\n",
    "\n",
    "def intersection(set_A, set_B):\n",
    "    if type(set_A) is not list or type(set_B) is not list:\n",
    "        return []\n",
    "    \n",
    "    intersection_list = []\n",
    "    \n",
    "    inter_set_B = []\n",
    "    for item in set_B:\n",
    "        if item not in inter_set_B:\n",
    "            inter_set_B.append(item)\n",
    "\n",
    "   \n",
    "    for item in set_A:\n",
    "        if item in inter_set_B and item not in intersection_list:\n",
    "            intersection_list.append(item)\n",
    "    \n",
    "    return intersection_list\n",
    "\n",
    "print(intersection(set_A, set_B))\n"
   ],
   "id": "975c0fe6e8036ba5",
   "outputs": [
    {
     "name": "stdout",
     "output_type": "stream",
     "text": [
      "[2]\n"
     ]
    }
   ],
   "execution_count": 53
  }
 ],
 "metadata": {
  "kernelspec": {
   "display_name": "Python 3",
   "language": "python",
   "name": "python3"
  },
  "language_info": {
   "codemirror_mode": {
    "name": "ipython",
    "version": 2
   },
   "file_extension": ".py",
   "mimetype": "text/x-python",
   "name": "python",
   "nbconvert_exporter": "python",
   "pygments_lexer": "ipython2",
   "version": "2.7.6"
  }
 },
 "nbformat": 4,
 "nbformat_minor": 5
}
