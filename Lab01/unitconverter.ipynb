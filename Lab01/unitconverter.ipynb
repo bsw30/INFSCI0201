{
 "cells": [
  {
   "cell_type": "code",
   "id": "initial_id",
   "metadata": {
    "collapsed": true,
    "ExecuteTime": {
     "end_time": "2024-09-11T15:46:59.464050Z",
     "start_time": "2024-09-11T15:46:55.746661Z"
    }
   },
   "source": [
    "INCH_TO_CM = 2.54\n",
    "YARD_TO_METER = 0.9144\n",
    "OUNCE_TO_GRAM = 28.349523125\n",
    "POUND_TO_KILOGRAM = 0.45359237\n",
    "\n",
    "user_input = input(\"Please enter the value with unit:): \")\n",
    "(input_parts) = user_input.split()\n",
    "\n",
    "value_str = input_parts[0]\n",
    "unit = input_parts[1]\n",
    "value = float(value_str)\n",
    "converted_value = 0\n",
    "converted_unit = \"\"\n",
    "\n",
    "if unit == \"in\":\n",
    "    converted_value = value * INCH_TO_CM\n",
    "    converted_unit = \"cm\"\n",
    "elif unit == \"cm\":\n",
    "    converted_value = value / INCH_TO_CM\n",
    "    converted_unit = \"in\"\n",
    "elif unit == \"yd\":\n",
    "    converted_value = value * YARD_TO_METER\n",
    "    converted_unit = \"m\"\n",
    "elif unit == \"m\":\n",
    "    converted_value = value / YARD_TO_METER\n",
    "    converted_unit = \"yd\"\n",
    "elif unit == \"oz\":\n",
    "    converted_value = value * OUNCE_TO_GRAM\n",
    "    converted_unit = \"g\"\n",
    "elif unit == \"g\":\n",
    "    converted_value = value / OUNCE_TO_GRAM\n",
    "    converted_unit = \"oz\"\n",
    "elif unit == \"lb\":\n",
    "    converted_value = value * POUND_TO_KILOGRAM\n",
    "    converted_unit = \"kg\"\n",
    "elif unit == \"kg\":\n",
    "    converted_value = value / POUND_TO_KILOGRAM\n",
    "    converted_unit = \"lb\"\n",
    "\n",
    "print(f\"{value} {unit} = {converted_value:.2f} {converted_unit}\")"
   ],
   "outputs": [
    {
     "name": "stdout",
     "output_type": "stream",
     "text": [
      "1.0 in = 2.54 cm\n"
     ]
    }
   ],
   "execution_count": 10
  }
 ],
 "metadata": {
  "kernelspec": {
   "display_name": "Python 3",
   "language": "python",
   "name": "python3"
  },
  "language_info": {
   "codemirror_mode": {
    "name": "ipython",
    "version": 2
   },
   "file_extension": ".py",
   "mimetype": "text/x-python",
   "name": "python",
   "nbconvert_exporter": "python",
   "pygments_lexer": "ipython2",
   "version": "2.7.6"
  }
 },
 "nbformat": 4,
 "nbformat_minor": 5
}
