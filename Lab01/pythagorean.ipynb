{
 "cells": [
  {
   "cell_type": "code",
   "id": "initial_id",
   "metadata": {
    "collapsed": true,
    "ExecuteTime": {
     "end_time": "2024-09-11T15:16:47.642440Z",
     "start_time": "2024-09-11T15:16:44.262179Z"
    }
   },
   "source": [
    "side_a = float(input(\"Please enter side A value: \"))\n",
    "side_b = float(input(\"Please enter side B value: \"))\n",
    "\n",
    "import math\n",
    "hypotenuse = math.sqrt(side_a ** 2 + side_b ** 2)\n",
    "\n",
    "print(f\"hypotenuse is {hypotenuse:.2f}\")"
   ],
   "outputs": [
    {
     "name": "stdout",
     "output_type": "stream",
     "text": [
      "hypotenuse is 14.14\n"
     ]
    }
   ],
   "execution_count": 21
  }
 ],
 "metadata": {
  "kernelspec": {
   "display_name": "Python 3",
   "language": "python",
   "name": "python3"
  },
  "language_info": {
   "codemirror_mode": {
    "name": "ipython",
    "version": 2
   },
   "file_extension": ".py",
   "mimetype": "text/x-python",
   "name": "python",
   "nbconvert_exporter": "python",
   "pygments_lexer": "ipython2",
   "version": "2.7.6"
  }
 },
 "nbformat": 4,
 "nbformat_minor": 5
}
