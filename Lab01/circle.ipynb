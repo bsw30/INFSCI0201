{
 "cells": [
  {
   "cell_type": "code",
   "id": "initial_id",
   "metadata": {
    "collapsed": true,
    "ExecuteTime": {
     "end_time": "2024-09-11T15:27:18.562029Z",
     "start_time": "2024-09-11T15:27:16.416869Z"
    }
   },
   "source": [
    "radius = float(input(\"Please enter the radius value: \"))\n",
    "import math\n",
    "perimeter = 2 * math.pi * radius\n",
    "area = math.pi * radius**2\n",
    "print(f\"The circle with radius {radius} has an area of {area:.2f}  and a perimeter of {perimeter:.2f}\")"
   ],
   "outputs": [
    {
     "name": "stdout",
     "output_type": "stream",
     "text": [
      "The circle with radius 10.0 has an area of 314.16  and a perimeter of 62.83\n"
     ]
    }
   ],
   "execution_count": 5
  }
 ],
 "metadata": {
  "kernelspec": {
   "display_name": "Python 3",
   "language": "python",
   "name": "python3"
  },
  "language_info": {
   "codemirror_mode": {
    "name": "ipython",
    "version": 2
   },
   "file_extension": ".py",
   "mimetype": "text/x-python",
   "name": "python",
   "nbconvert_exporter": "python",
   "pygments_lexer": "ipython2",
   "version": "2.7.6"
  }
 },
 "nbformat": 4,
 "nbformat_minor": 5
}
